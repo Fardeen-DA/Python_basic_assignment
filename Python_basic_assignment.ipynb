{
  "nbformat": 4,
  "nbformat_minor": 0,
  "metadata": {
    "colab": {
      "provenance": []
    },
    "kernelspec": {
      "name": "python3",
      "display_name": "Python 3"
    },
    "language_info": {
      "name": "python"
    }
  },
  "cells": [
    {
      "cell_type": "code",
      "execution_count": null,
      "metadata": {
        "id": "pSglZdTr-0Wp"
      },
      "outputs": [],
      "source": [
        "#Python Basic assignment\n"
      ]
    },
    {
      "cell_type": "markdown",
      "source": [
        "1. What is Python, and why is it popular ?\n",
        "\n",
        "  - Python is a high-level interpreted programming language known for its simplicity, readability, and versatility.It was created by Guido van Rossum and first released in 1991.\n",
        " - It is popular cause\n",
        "  : Ease of learning\n",
        "  : versatility\n",
        "  : Readability\n",
        "  : Lot of libraries\n",
        "  : Active python community\n",
        "  \n",
        "  \n",
        "2. What is an interpreter in Python ?\n",
        "   - The Python interpreter processes your code line-by-line, converting it into machine-readable instructions and running them immediately.\n",
        "\n",
        "3. What are pre-defined keywords in Python ?\n",
        "\n",
        "   - Pre-defined keywords in Python are reserved words that have special meaning to the Python interpreter.You cannot use them as variable names, function names, or identifiers, because they are part of the language's syntax.\n",
        "4. Can keywords be used as variable names ?\n",
        " - Key words cannot be used as a variable name .\n",
        "\n",
        "5. What is mutability in Python ?\n",
        " - Mutability in Python means whether an object  contents can be changed after it is created.\n",
        "\n",
        "6. Why are lists mutable, but tuples are immutable ?\n",
        "\n",
        " - Lists are mutable because they are meant to store dynamic collections that can grow or change.\n",
        "Tuples are immutable to ensure safety, performance, and use in situations where fixed, constant data is needed.\n",
        "\n",
        "7.  What is the difference between “==” and “is” operators in Python ?\n",
        "  - == → Equality Operator\n",
        "- Checks whether the values of two objects are equal.\n",
        "\n",
        "- Compares contents.\n",
        "\n",
        "  - is → Identity Operator\n",
        "- Checks whether two variables point to the exact same object in memory.\n",
        "\n",
        "- Compares object identity, not content.\n",
        "\n",
        "8. What are logical operators in Python ?\n",
        "\n",
        "  - Logical operators are used to combine conditional statements .\n",
        "They return True or False based on the logic applied between the conditions.\n",
        "\n",
        "Logical operators are commonly used in:\n",
        "- if statements\n",
        "- Loops\n",
        "- Complex conditions\n",
        "\n",
        "9. What is type casting in Python ?\n",
        "  - Type casting  in Python means converting a value from one data type to another, like from a string to an integer, or a float to a string.\n",
        "\n",
        "10.   What is the difference between implicit and explicit type casting ?\n",
        "\n",
        "  -  Implicit Type Casting  :\n",
        "- Python automatically converts one data type to another when needed.\n",
        "\n",
        "- Happens without your intervention.\n",
        "\n",
        "- Usually occurs when combining different numeric types.\n",
        "\n",
        "  - Explicit Type Casting :\n",
        "- You manually convert one data type to another using built-in functions.\n",
        "\n",
        "- You take control over how and when the conversion happens.\n",
        "\n",
        "11. What is the purpose of conditional statements in Python  ?\n",
        "\n",
        "  - Conditional statements let your program choose what to do next depending on whether a condition is True or False.\n",
        "\n",
        "12. How does the elif statement work ?\n",
        "\n",
        "   - The elif statement is used after an if to check another condition.\n",
        "It only runs if all previous conditions failed, and it stops once a True condition is found.\n",
        "\n",
        "13. What is the difference between for and while loops ?\n",
        "\n",
        "  - Both for and while loops are used for repeating code, but they are used in different situations.\n",
        "- for Loop – Used for Iterating Over a Sequence\n",
        "-  while Loop – Used When the End Condition Isn't Fixed\n",
        "\n",
        "14. Describe a scenario where a while loop is more suitable than a for loop\n",
        "\n",
        "  - Imagine you're building a program that asks the user to enter a password. You don’t know how many attempts it will take the user to enter it correctly. You just want to keep asking until they get it right.\n",
        "\n"
      ],
      "metadata": {
        "id": "1nBelJQa_bAc"
      }
    },
    {
      "cell_type": "code",
      "source": [
        "# practical questions\n"
      ],
      "metadata": {
        "id": "jZlgVdieCEeY"
      },
      "execution_count": null,
      "outputs": []
    },
    {
      "cell_type": "code",
      "source": [
        "# 1 Write a Python program to print \"Hello, World!y\n",
        "\n",
        "print(\"Hello, World!\")"
      ],
      "metadata": {
        "colab": {
          "base_uri": "https://localhost:8080/"
        },
        "id": "VhpF1bGE6EaY",
        "outputId": "43d4d19f-e3f9-4481-bb05-a13e74525de4"
      },
      "execution_count": null,
      "outputs": [
        {
          "output_type": "stream",
          "name": "stdout",
          "text": [
            "Hello, World!\n"
          ]
        }
      ]
    },
    {
      "cell_type": "code",
      "source": [
        "# 2 Write a Python program that displays your name and age ?\n",
        "\n",
        "name = \"Fardeen\"\n",
        "age = 24\n",
        "\n",
        "print(\"My name is\", name)\n",
        "print(\"I am\", age, \"years old\")"
      ],
      "metadata": {
        "colab": {
          "base_uri": "https://localhost:8080/"
        },
        "id": "wZFrxeQe6Xa4",
        "outputId": "0c845168-7335-4aa7-d766-576f2b4896fa"
      },
      "execution_count": null,
      "outputs": [
        {
          "output_type": "stream",
          "name": "stdout",
          "text": [
            "My name is Fardeen\n",
            "I am 24 years old\n"
          ]
        }
      ]
    },
    {
      "cell_type": "code",
      "source": [
        "# 3  Write code to print all the pre-defined keywords in Python using the keyword library ?\n",
        "\n",
        "# Import the keyword module\n",
        "import keyword\n",
        "\n",
        "# Get the list of keywords\n",
        "keywords = keyword.kwlist\n",
        "\n",
        "# Print all keywords\n",
        "print(\"Python keywords are:\")\n",
        "for kw in keywords:\n",
        "    print(kw)"
      ],
      "metadata": {
        "colab": {
          "base_uri": "https://localhost:8080/"
        },
        "id": "pGrJca-E7QtJ",
        "outputId": "ff49d9f8-4906-4c05-9961-262876ebe225"
      },
      "execution_count": null,
      "outputs": [
        {
          "output_type": "stream",
          "name": "stdout",
          "text": [
            "Python keywords are:\n",
            "False\n",
            "None\n",
            "True\n",
            "and\n",
            "as\n",
            "assert\n",
            "async\n",
            "await\n",
            "break\n",
            "class\n",
            "continue\n",
            "def\n",
            "del\n",
            "elif\n",
            "else\n",
            "except\n",
            "finally\n",
            "for\n",
            "from\n",
            "global\n",
            "if\n",
            "import\n",
            "in\n",
            "is\n",
            "lambda\n",
            "nonlocal\n",
            "not\n",
            "or\n",
            "pass\n",
            "raise\n",
            "return\n",
            "try\n",
            "while\n",
            "with\n",
            "yield\n"
          ]
        }
      ]
    },
    {
      "cell_type": "code",
      "source": [
        "# 4 Write a program that checks if a given word is a Python keyword.\n",
        "\n",
        "import keyword\n",
        "\n",
        "# Ask the user to enter a word\n",
        "word = input(\"Enter a word to check if it's a Python keyword: \")\n",
        "\n",
        "# Check if the word is a keyword\n",
        "if keyword.iskeyword(word):\n",
        "    print(f\"✅ '{word}' is a Python keyword.\")\n",
        "else:\n",
        "    print(f\"❌ '{word}' is NOT a Python keyword.\")\n"
      ],
      "metadata": {
        "colab": {
          "base_uri": "https://localhost:8080/"
        },
        "id": "igX2UWvq8GSJ",
        "outputId": "bb1ecce9-4415-4e5d-a2e3-10f17ef6246c"
      },
      "execution_count": null,
      "outputs": [
        {
          "output_type": "stream",
          "name": "stdout",
          "text": [
            "Enter a word to check if it's a Python keyword: if\n",
            "✅ 'if' is a Python keyword.\n"
          ]
        }
      ]
    },
    {
      "cell_type": "code",
      "source": [
        "# 5 Create a list and tuple in Python, and demonstrate how attempting to change an element works differently\n",
        "#for each.\n",
        "\n",
        "# Creating a list and a tuple\n",
        "my_list = [10, 20, 30]\n",
        "my_tuple = (10, 20, 30)\n",
        "\n",
        "# Modifying an element in the list (This will work)\n",
        "print(\"Original list:\", my_list)\n",
        "my_list[1] = 99\n",
        "print(\"Modified list:\", my_list)\n",
        "\n",
        "# Attempting to modify an element in the tuple (This will raise an error)\n",
        "print(\"Original tuple:\", my_tuple)\n",
        "try:\n",
        "    my_tuple[1] = 99  # This will raise a TypeError\n",
        "except TypeError as e:\n",
        "    print(\"Error:\", e)\n"
      ],
      "metadata": {
        "colab": {
          "base_uri": "https://localhost:8080/"
        },
        "id": "C1OZExVG8djx",
        "outputId": "79c0d358-cecf-455b-e3fe-d383e0b3236d"
      },
      "execution_count": null,
      "outputs": [
        {
          "output_type": "stream",
          "name": "stdout",
          "text": [
            "Original list: [10, 20, 30]\n",
            "Modified list: [10, 99, 30]\n",
            "Original tuple: (10, 20, 30)\n",
            "Error: 'tuple' object does not support item assignment\n"
          ]
        }
      ]
    },
    {
      "cell_type": "code",
      "source": [
        "# 6. Write a function to demonstrate the behavior of mutable and immutable arguments.\n",
        "\n",
        "# Function to modify immutable argument\n",
        "def modify_immutable(x):\n",
        "    print(\"Inside function (before):\", x)\n",
        "    x = x + 10\n",
        "    print(\"Inside function (after):\", x)\n",
        "\n",
        "# Function to modify mutable argument\n",
        "def modify_mutable(my_list):\n",
        "    print(\"Inside function (before):\", my_list)\n",
        "    my_list.append(100)\n",
        "    print(\"Inside function (after):\", my_list)\n",
        "\n",
        "# Immutable example\n",
        "num = 5\n",
        "print(\"Before calling modify_immutable:\", num)\n",
        "modify_immutable(num)\n",
        "print(\"After calling modify_immutable:\", num)\n",
        "\n",
        "print(\"\\n\" + \"-\"*40 + \"\\n\")\n",
        "\n",
        "# Mutable example\n",
        "nums = [1, 2, 3]\n",
        "print(\"Before calling modify_mutable:\", nums)\n",
        "modify_mutable(nums)\n",
        "print(\"After calling modify_mutable:\", nums)\n"
      ],
      "metadata": {
        "colab": {
          "base_uri": "https://localhost:8080/"
        },
        "id": "-vpYUHzX9W76",
        "outputId": "23259c66-c73c-488a-a629-286b21adba0a"
      },
      "execution_count": null,
      "outputs": [
        {
          "output_type": "stream",
          "name": "stdout",
          "text": [
            "Before calling modify_immutable: 5\n",
            "Inside function (before): 5\n",
            "Inside function (after): 15\n",
            "After calling modify_immutable: 5\n",
            "\n",
            "----------------------------------------\n",
            "\n",
            "Before calling modify_mutable: [1, 2, 3]\n",
            "Inside function (before): [1, 2, 3]\n",
            "Inside function (after): [1, 2, 3, 100]\n",
            "After calling modify_mutable: [1, 2, 3, 100]\n"
          ]
        }
      ]
    },
    {
      "cell_type": "code",
      "source": [
        "#7. Write a program that performs basic arithmetic operations on two user-input numbers.\n",
        "\n",
        "# Ask user to input two numbers\n",
        "num1 = float(input(\"Enter the first number: \"))\n",
        "num2 = float(input(\"Enter the second number: \"))\n",
        "\n",
        "# Perform arithmetic operations\n",
        "print(\"\\n--- Arithmetic Operations ---\")\n",
        "print(\"Addition:\", num1 + num2)\n",
        "print(\"Subtraction:\", num1 - num2)\n",
        "print(\"Multiplication:\", num1 * num2)\n",
        "\n",
        "# Handle division by zero\n",
        "if num2 != 0:\n",
        "    print(\"Division:\", num1 / num2)\n",
        "    print(\"Modulus:\", num1 % num2)\n",
        "else:\n",
        "    print(\"Division: Error (cannot divide by zero)\")\n",
        "    print(\"Modulus: Error (cannot perform modulus by zero)\")\n"
      ],
      "metadata": {
        "colab": {
          "base_uri": "https://localhost:8080/"
        },
        "id": "mYE5gbatHGde",
        "outputId": "480e45e1-e98f-4f28-959c-2dbfc4400f49"
      },
      "execution_count": null,
      "outputs": [
        {
          "output_type": "stream",
          "name": "stdout",
          "text": [
            "Enter the first number: 10\n",
            "Enter the second number: 5\n",
            "\n",
            "--- Arithmetic Operations ---\n",
            "Addition: 15.0\n",
            "Subtraction: 5.0\n",
            "Multiplication: 50.0\n",
            "Division: 2.0\n",
            "Modulus: 0.0\n"
          ]
        }
      ]
    },
    {
      "cell_type": "code",
      "source": [
        "#8. Write a program to demonstrate the use of logical operators.\n",
        "\n",
        "\n",
        "x = int(input(\"Enter a number: \"))\n",
        "print(\"Is x > 0 and x < 10?\", x > 0 and x < 10)\n",
        "print(\"Is x < 0 or x > 100?\", x < 0 or x > 100)\n",
        "print(\"Is x not equal to 5?\", not x == 5)\n"
      ],
      "metadata": {
        "colab": {
          "base_uri": "https://localhost:8080/"
        },
        "id": "TlDsDdz7HUcZ",
        "outputId": "67adb223-adf5-474a-a0fa-60151f00cf5f"
      },
      "execution_count": null,
      "outputs": [
        {
          "output_type": "stream",
          "name": "stdout",
          "text": [
            "Enter a number: 50\n",
            "Is x > 0 and x < 10? False\n",
            "Is x < 0 or x > 100? False\n",
            "Is x not equal to 5? True\n"
          ]
        }
      ]
    },
    {
      "cell_type": "code",
      "source": [
        "#9. Write a Python program to convert user input from string to integer, float, and boolean types.\n",
        "\n",
        "# Take input from the user\n",
        "user_input = input(\"Enter a value: \")\n",
        "\n",
        "# Convert to integer\n",
        "try:\n",
        "    int_value = int(user_input)\n",
        "    print(\"Integer value:\", int_value)\n",
        "except ValueError:\n",
        "    print(\"Cannot convert to Integer.\")\n",
        "\n",
        "# Convert to float\n",
        "try:\n",
        "    float_value = float(user_input)\n",
        "    print(\"Float value:\", float_value)\n",
        "except ValueError:\n",
        "    print(\"Cannot convert to Float.\")\n",
        "\n",
        "# Convert to boolean\n",
        "bool_value = bool(user_input)\n",
        "print(\"Boolean value:\", bool_value)\n"
      ],
      "metadata": {
        "colab": {
          "base_uri": "https://localhost:8080/"
        },
        "id": "pdfBWPaSIAhs",
        "outputId": "86726e7a-ddb9-48a4-bd4a-cf448be10027"
      },
      "execution_count": null,
      "outputs": [
        {
          "output_type": "stream",
          "name": "stdout",
          "text": [
            "Enter a value: 6.5\n",
            "Cannot convert to Integer.\n",
            "Float value: 6.5\n",
            "Boolean value: True\n"
          ]
        }
      ]
    },
    {
      "cell_type": "code",
      "source": [
        "#10. Write code to demonstrate type casting with list elements.\n",
        "\n",
        "# Original list with string numbers\n",
        "str_list = ['10', '20', '30', '40.5', '50.9']\n",
        "\n",
        "# Convert all elements to integers (skip float-like strings)\n",
        "int_list = []\n",
        "for item in str_list:\n",
        "    try:\n",
        "        int_list.append(int(float(item)))  # Convert to float first if needed, then int\n",
        "    except ValueError:\n",
        "        int_list.append(None)  # Handle non-numeric values\n",
        "\n",
        "# Convert all elements to float\n",
        "float_list = []\n",
        "for item in str_list:\n",
        "    try:\n",
        "        float_list.append(float(item))\n",
        "    except ValueError:\n",
        "        float_list.append(None)\n",
        "\n",
        "# Convert all elements to boolean\n",
        "bool_list = [bool(item) for item in str_list]\n",
        "\n",
        "# Print results\n",
        "print(\"Original List (strings):\", str_list)\n",
        "print(\"Converted to Integers:   \", int_list)\n",
        "print(\"Converted to Floats:     \", float_list)\n",
        "print(\"Converted to Booleans:   \", bool_list)\n"
      ],
      "metadata": {
        "colab": {
          "base_uri": "https://localhost:8080/"
        },
        "id": "mDQr0j6KISUk",
        "outputId": "1779af7c-0c84-495f-c762-7bfeb0ad3f19"
      },
      "execution_count": null,
      "outputs": [
        {
          "output_type": "stream",
          "name": "stdout",
          "text": [
            "Original List (strings): ['10', '20', '30', '40.5', '50.9']\n",
            "Converted to Integers:    [10, 20, 30, 40, 50]\n",
            "Converted to Floats:      [10.0, 20.0, 30.0, 40.5, 50.9]\n",
            "Converted to Booleans:    [True, True, True, True, True]\n"
          ]
        }
      ]
    },
    {
      "cell_type": "code",
      "source": [
        "#11. Write a program that checks if a number is positive, negative, or zero.\n",
        "\n",
        "# Get input from the user\n",
        "num = float(input(\"Enter a number: \"))\n",
        "\n",
        "# Check if the number is positive, negative, or zero\n",
        "if num > 0:\n",
        "    print(\"The number is positive.\")\n",
        "elif num < 0:\n",
        "    print(\"The number is negative.\")\n",
        "else:\n",
        "    print(\"The number is zero.\")\n"
      ],
      "metadata": {
        "colab": {
          "base_uri": "https://localhost:8080/"
        },
        "id": "4C59R6crIshv",
        "outputId": "ef5e03e4-8a04-42e5-980d-de5d6cb55ce4"
      },
      "execution_count": null,
      "outputs": [
        {
          "output_type": "stream",
          "name": "stdout",
          "text": [
            "Enter a number: -6\n",
            "The number is negative.\n"
          ]
        }
      ]
    },
    {
      "cell_type": "code",
      "source": [
        "#12. Write a for loop to print numbers from 1 to 10.\n",
        "\n",
        "for i in range(1, 11):\n",
        "    print(i)\n"
      ],
      "metadata": {
        "colab": {
          "base_uri": "https://localhost:8080/"
        },
        "id": "v7qYCDm1I6DU",
        "outputId": "74fb7d2b-98fe-4b99-fe36-b3b083a89927"
      },
      "execution_count": null,
      "outputs": [
        {
          "output_type": "stream",
          "name": "stdout",
          "text": [
            "1\n",
            "2\n",
            "3\n",
            "4\n",
            "5\n",
            "6\n",
            "7\n",
            "8\n",
            "9\n",
            "10\n"
          ]
        }
      ]
    },
    {
      "cell_type": "code",
      "source": [
        "#13. Write a Python program to find the sum of all even numbers between 1 and 50.\n",
        "\n",
        "# Initialize sum\n",
        "even_sum = 0\n",
        "\n",
        "# Loop through numbers from 1 to 50\n",
        "for num in range(1, 51):\n",
        "    if num % 2 == 0:\n",
        "        even_sum += num\n",
        "\n",
        "# Print the result\n",
        "print(\"Sum of even numbers from 1 to 50 is:\", even_sum)\n"
      ],
      "metadata": {
        "colab": {
          "base_uri": "https://localhost:8080/"
        },
        "id": "PEJBXuFwJJWB",
        "outputId": "50d08cf8-128e-4032-dc64-b27ccdde6c49"
      },
      "execution_count": null,
      "outputs": [
        {
          "output_type": "stream",
          "name": "stdout",
          "text": [
            "Sum of even numbers from 1 to 50 is: 650\n"
          ]
        }
      ]
    },
    {
      "cell_type": "code",
      "source": [
        "#14. Write a program to reverse a string using a while loop.\n",
        "\n",
        "# Get user input\n",
        "original_string = input(\"Enter a string: \")\n",
        "\n",
        "# Initialize an empty string for the reversed version\n",
        "reversed_string = \"\"\n",
        "\n",
        "# Initialize index to last character\n",
        "index = len(original_string) - 1\n",
        "\n",
        "# Loop until the beginning of the string\n",
        "while index >= 0:\n",
        "    reversed_string += original_string[index]\n",
        "    index -= 1\n",
        "\n",
        "# Print the reversed string\n",
        "print(\"Reversed string:\", reversed_string)\n"
      ],
      "metadata": {
        "colab": {
          "base_uri": "https://localhost:8080/"
        },
        "id": "CqUYiY0rJV-i",
        "outputId": "7ff232cd-6e3e-45f3-ed0d-a7237e715c71"
      },
      "execution_count": null,
      "outputs": [
        {
          "output_type": "stream",
          "name": "stdout",
          "text": [
            "Enter a string: Fardeen\n",
            "Reversed string: needraF\n"
          ]
        }
      ]
    },
    {
      "cell_type": "code",
      "source": [
        "#15. Write a Python program to calculate the factorial of a number provided by the user using a while loop.\n",
        "\n",
        "# Get input from the user\n",
        "num = int(input(\"Enter a non-negative integer: \"))\n",
        "\n",
        "# Check for negative input\n",
        "if num < 0:\n",
        "    print(\"Factorial is not defined for negative numbers.\")\n",
        "else:\n",
        "    factorial = 1\n",
        "    i = 1\n",
        "\n",
        "    # Calculate factorial using while loop\n",
        "    while i <= num:\n",
        "        factorial *= i\n",
        "        i += 1\n",
        "\n",
        "    # Print the result\n",
        "    print(f\"The factorial of {num} is: {factorial}\")\n"
      ],
      "metadata": {
        "colab": {
          "base_uri": "https://localhost:8080/"
        },
        "id": "vKWsgSkkJfpm",
        "outputId": "37bb3513-17cf-47bf-f1e0-c4e19bb3de63"
      },
      "execution_count": null,
      "outputs": [
        {
          "output_type": "stream",
          "name": "stdout",
          "text": [
            "Enter a non-negative integer: 10\n",
            "The factorial of 10 is: 3628800\n"
          ]
        }
      ]
    },
    {
      "cell_type": "code",
      "source": [],
      "metadata": {
        "id": "ttaIy1ueJrM3"
      },
      "execution_count": null,
      "outputs": []
    }
  ]
}